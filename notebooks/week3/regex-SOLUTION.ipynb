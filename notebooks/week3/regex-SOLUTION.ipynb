{
 "cells": [
  {
   "cell_type": "markdown",
   "metadata": {},
   "source": [
    "# Regex Lab\n",
    "\n",
    "Let's practice using regex. There are regex implementations in nearly every programming language, and the one in Python is available to you through the standard library module called `re`. \n",
    "\n",
    "So, let's import `re` first:"
   ]
  },
  {
   "cell_type": "code",
   "execution_count": 1,
   "metadata": {},
   "outputs": [],
   "source": [
    "import re"
   ]
  },
  {
   "cell_type": "markdown",
   "metadata": {},
   "source": [
    "The basic order of operations for using `re` is \n",
    "\n",
    "1. get the string you want to search within (this may be a string you instantiate directly, a string read from a file, from an http request, or anywhere else)\n",
    "2. create a regex pattern using Python's \"raw string\" notation\n",
    "3. use one of the `re` functions to compare the string in (1) to the regex pattern in (2)\n",
    "\n",
    "Let's do those steps one by one first.\n",
    "\n",
    "First, get a string to search within. I will just instantiate one here right now:"
   ]
  },
  {
   "cell_type": "code",
   "execution_count": 2,
   "metadata": {},
   "outputs": [],
   "source": [
    "georgetown_html = \"\"\"<nav aria-label=\"footer\">\n",
    "<div id=\"gtscs-postscript\" role=\"contentinfo\" aria-label=\"footer with additional site navigation\">\n",
    "<div class=\"gtscs-inner\">\n",
    "<div>\n",
    "<ul>\n",
    "<li><a href=\"/admissions/\" aria-label=\"Admissions &amp; Aid home page link\">Admissions &amp; Aid</a></li>\n",
    "<li><a href=\"/faculty/\" aria-label=\"Faculty link\">Faculty</a></li>\n",
    "<li><a href=\"/news-and-events/\" aria-label=\"News &amp; Events link\">News &amp; Events</a></li>\n",
    "<li><a href=\"/about/\" aria-label=\"About home page link\">About</a></li>\n",
    "<li><a href=\"/about/contact-us/\" aria-label=\"contact link\">Contact</a></li>\n",
    "</ul>\n",
    "<ul>\n",
    "<li><a href=\"https://portal.scs.georgetown.edu/coursebasket/publicCourseBasket.do?method=load\" style=\"display:none;\" class=\"a-uk-badge-notification uk-hidden\">Cart<span class=\"uk-badge uk-badge-notification\">0</span></a></li>\n",
    "</ul>\n",
    "</div>\n",
    "<div>\n",
    "<ul>\n",
    "<li><a href=\"/resources-new-students\" aria-label=\"New Students link\">For New Students</a></li>\n",
    "<li><a href=\"/resources-current-students\" aria-label=\"Current Students link\">For Current Students</a></li>\n",
    "<li><a href=\"/resources-international-students\" aria-label=\"International Students link\">For International Students</a></li>\n",
    "<li><a href=\"/resources-military-students\" aria-label=\"Military Students link\">For Military Students</a></li>\n",
    "<li><a href=\"/resources-online-students\" aria-label=\"Online Students link\">For Online Students</a></li>\n",
    "<li><a href=\"/resources-faculty\" aria-label=\"Faculty link\">For Faculty</a></li>\n",
    "<li><a href=\"/resources-alumni\" aria-label=\"Alumni link\">For Alumni</a></li>\n",
    "</ul>\n",
    "<ul>\n",
    "<li><a href=\"/open-faculty-positions/\" aria-label=\"open faculty link\">Open Faculty Positions</a></li>\n",
    "</ul>\n",
    "</div>\n",
    "<div>\n",
    "<ul>\n",
    "<li><a href=\"https://accessibility.georgetown.edu/\">Accessibility at Georgetown</a></li>\n",
    "<li><a href=\"/about/noncredit-terms-and-conditions/\" aria-label=\"noncredit terms and conditions link\">Noncredit Terms &amp; Conditions</a></li>\n",
    "<li><a href=\"/about/terms-of-use-and-privacy-policy/#privacy\" aria-label=\"privacy policy link\">Privacy Policy</a></li>\n",
    "<li><a href=\"/about/terms-of-use-and-privacy-policy/#terms\" aria-label=\"terms of use link\">Terms of Use</a></li>\n",
    "<li><a href=\"/about/our-campus/public-safety/\" aria-label=\"public safety link\">Public Safety</a></li>\n",
    "<li><a href=\"/about/our-campus/public-safety/#emergnumbers\" aria-label=\"Emergency Contact Info link\">Emergency Contact Info</a></li>\n",
    "</ul>\n",
    "<p><strong>Georgetown University<br>School of Continuing Studies</strong><br>640 Massachusetts Ave NW<br>Washington, DC 20001<br>(202) 687-8700</p>\n",
    "<!-- social media: full-site -->\n",
    "<!--  Global Social Media Icons: Full-site (footer) -->\n",
    "<ul id=\"gtscs-social\" aria-label=\"social media links\">\n",
    "<li><a href=\"https://www.facebook.com/GeorgetownSCS/\" target=\"_blank\"><span class=\"fa fa-facebook-official\" role=\"presentation\" aria-label=\"facebook\"></span></a></li>\n",
    "<li><a href=\"http://www.twitter.com/GeorgetownSCS\" target=\"_blank\"><span class=\"fa fa-twitter\" role=\"presentation\" aria-label=\"twitter\"></span></a></li>\n",
    "<li><a href=\"https://www.youtube.com/user/GeorgetownSCS\" target=\"_blank\"><span class=\"fa fa-youtube-play\" role=\"presentation\" aria-label=\"youtube\"></span></a></li>\n",
    "<li><a href=\"http://instagram.com/georgetownscs\" target=\"_blank\"><span class=\"fa fa-instagram\" role=\"presentation\" aria-label=\"instagram\"></span></a></li>\n",
    "<li><a href=\"https://www.linkedin.com/school/2630840/\" target=\"_blank\"><span class=\"fa fa-linkedin-square\" role=\"presentation\" aria-label=\"LinkedIn Square\"></span></a></li>\n",
    "</ul>\n",
    "</div>\n",
    "</div>\n",
    "</div>\n",
    "</nav>\"\"\""
   ]
  },
  {
   "cell_type": "markdown",
   "metadata": {},
   "source": [
    "This is the HTML from the footer of Georgetown SCS's website. I'm going to use regex to extract the phone number of Georgetown SCS out of this using `re`.\n",
    "\n",
    "Next we need the regex pattern. \n",
    "\n",
    "\n",
    "####  Quick sidenote: raw strings\n",
    "We are going to use Python's \"raw string\" syntax, which means that instead of just adding single or double quotes to either side of our data to make it a string, we will also prefix it with the lowercase letter `r`.\n",
    "\n",
    "Compare:"
   ]
  },
  {
   "cell_type": "code",
   "execution_count": 3,
   "metadata": {},
   "outputs": [
    {
     "data": {
      "text/plain": [
       "str"
      ]
     },
     "execution_count": 3,
     "metadata": {},
     "output_type": "execute_result"
    }
   ],
   "source": [
    "regular_string = \"C:\\\\\"\n",
    "type(regular_string)"
   ]
  },
  {
   "cell_type": "code",
   "execution_count": 4,
   "metadata": {},
   "outputs": [
    {
     "name": "stdout",
     "output_type": "stream",
     "text": [
      "C:\\\n"
     ]
    }
   ],
   "source": [
    "print(regular_string)"
   ]
  },
  {
   "cell_type": "code",
   "execution_count": 5,
   "metadata": {},
   "outputs": [
    {
     "data": {
      "text/plain": [
       "str"
      ]
     },
     "execution_count": 5,
     "metadata": {},
     "output_type": "execute_result"
    }
   ],
   "source": [
    "raw_string = r\"C:\\\\\"\n",
    "type(raw_string)"
   ]
  },
  {
   "cell_type": "code",
   "execution_count": 6,
   "metadata": {},
   "outputs": [
    {
     "name": "stdout",
     "output_type": "stream",
     "text": [
      "C:\\\\\n"
     ]
    }
   ],
   "source": [
    "print(raw_string)"
   ]
  },
  {
   "cell_type": "markdown",
   "metadata": {},
   "source": [
    "Since regex patterns have so many backslashes in them, it's easier to save them as raw strings since the backslashes don't need to be escaped in that case.\n",
    "\n",
    "#### Back to making our regex\n",
    "\n",
    "Let's get our regex for a phone number into a raw string now:"
   ]
  },
  {
   "cell_type": "code",
   "execution_count": 7,
   "metadata": {},
   "outputs": [],
   "source": [
    "telephone_regex = r\"(\\(*\\d{3}\\)*( |-)*\\d{3}( |-)*\\d{4})\""
   ]
  },
  {
   "attachments": {},
   "cell_type": "markdown",
   "metadata": {},
   "source": [
    "Now let's use one of the `re` functions to find anything matching that regex pattern in our string. We have a couple options:\n",
    "\n",
    "* re.match(pattern, string) – return the Match object if pattern matches at the beginning of string\n",
    "* re.search(pattern, string) – return the Match object if pattern matches anywhere in string\n",
    "* re.findall(pattern, string) – return a list of Match objects for all substrings where pattern matches in string\n",
    "* re.sub(pattern, repl, string) – return a new string with pattern replaced with repl everywhere it matched in string\n",
    "\n",
    "Let's use `re.search` first, and then use `re.findall`, since our regex isn't at the beginning of the string (which is when we would use `re.match`) and we don't want to substitute anything (which is when we would use `re.sub`).\n",
    "\n",
    "### Using `re.search`"
   ]
  },
  {
   "cell_type": "code",
   "execution_count": 8,
   "metadata": {},
   "outputs": [],
   "source": [
    "match = re.search(telephone_regex, georgetown_html)"
   ]
  },
  {
   "cell_type": "code",
   "execution_count": 9,
   "metadata": {},
   "outputs": [
    {
     "data": {
      "text/plain": [
       "re.Match"
      ]
     },
     "execution_count": 9,
     "metadata": {},
     "output_type": "execute_result"
    }
   ],
   "source": [
    "type(match)"
   ]
  },
  {
   "attachments": {},
   "cell_type": "markdown",
   "metadata": {},
   "source": [
    "We can interact with a `Match` object using the following methods:\n",
    "\n",
    "* `.re` – the regular expression object that produced this match instance\n",
    "* `.string` – the string passed to this match instance\n",
    " matched by group\n",
    "* `.group([group1,…])` – returns the subgroups of the match\n",
    "* `.groups()` – returns a tuple of all the subgroups of the match\n",
    "* `.start([group])` / `.end([group])` / `.span([group])` – the indicies of the start or end (or both) of the substring"
   ]
  },
  {
   "cell_type": "code",
   "execution_count": 10,
   "metadata": {},
   "outputs": [
    {
     "data": {
      "text/plain": [
       "re.compile(r'(\\(*\\d{3}\\)*( |-)*\\d{3}( |-)*\\d{4})', re.UNICODE)"
      ]
     },
     "execution_count": 10,
     "metadata": {},
     "output_type": "execute_result"
    }
   ],
   "source": [
    "match.re # this is the telephone_regex we passed, as a compiled regex object"
   ]
  },
  {
   "cell_type": "code",
   "execution_count": 11,
   "metadata": {},
   "outputs": [
    {
     "data": {
      "text/plain": [
       "'<nav aria-label=\"footer\">\\n<div id=\"gtscs-postscript\" role=\"contentinfo\" aria-label=\"footer with addi'"
      ]
     },
     "execution_count": 11,
     "metadata": {},
     "output_type": "execute_result"
    }
   ],
   "source": [
    "match.string[:100] # this is the string we matched to. I just printed out the first 100 characters to keep it short."
   ]
  },
  {
   "cell_type": "code",
   "execution_count": 12,
   "metadata": {},
   "outputs": [
    {
     "data": {
      "text/plain": [
       "'(202) 687-8700'"
      ]
     },
     "execution_count": 12,
     "metadata": {},
     "output_type": "execute_result"
    }
   ],
   "source": [
    "match.group() # this is the substring we found that matched the pattern"
   ]
  },
  {
   "cell_type": "markdown",
   "metadata": {},
   "source": [
    "\"Group\" here basically means the string that we matched. (I know it's a bit confusing because the whole object is called a `Match` object, and this method is called `group()`.)\n",
    "\n",
    "Technically, the regex will try and find a match (aka a group) to any subset of the regex pattern that was enclosed in unescaped parenthesis. Sometimes you need to use many groups to put together a more complicated regex, which is what we did with this phone number one.\n",
    "\n",
    "As a result, if you try and pick apart this `Match` object in more detail, you will see that we actually matched to 3 groups, because we have 3 subgroups described in our regex:\n",
    "\n",
    "1. The whole thing\n",
    "2. The space between the area code and the number\n",
    "3. The hyphen between the three digits and the four digits of the number.\n",
    "\n",
    "The regex parenthesis for each of those subgroups is highlighted below:\n",
    "\n",
    "<font style=\"font-family:Courier New\">\n",
    "\n",
    "re.compile(r'<font style=\"background-color:yellow;\">(\\(*\\d{3}\\)*( |-)*\\d{3}( |-)*\\d{4})</font>', re.UNICODE)\n",
    "    \n",
    "re.compile(r'(\\(*\\d{3}\\)*<font style=\"background-color:yellow;\">( |-)</font>*\\d{3}( |-)*\\d{4})', re.UNICODE)\n",
    "    \n",
    "re.compile(r'(\\(*\\d{3}\\)*( |-)*\\d{3}<font style=\"background-color:yellow;\">( |-)</font>*\\d{4})', re.UNICODE)\n",
    "\n",
    "</font>\n",
    "    \n",
    "Let's take a look at all the groups now using the `groups()` method of our `Match` object, and see that we have a string match for each of these spots:"
   ]
  },
  {
   "cell_type": "code",
   "execution_count": 13,
   "metadata": {},
   "outputs": [
    {
     "data": {
      "text/plain": [
       "('(202) 687-8700', ' ', '-')"
      ]
     },
     "execution_count": 13,
     "metadata": {},
     "output_type": "execute_result"
    }
   ],
   "source": [
    "match.groups() # these are all the subgroup Match objects"
   ]
  },
  {
   "cell_type": "code",
   "execution_count": 14,
   "metadata": {},
   "outputs": [
    {
     "data": {
      "text/plain": [
       "'(202) 687-8700'"
      ]
     },
     "execution_count": 14,
     "metadata": {},
     "output_type": "execute_result"
    }
   ],
   "source": [
    "match.group(1) # this is the match to the outer parenthesis"
   ]
  },
  {
   "cell_type": "code",
   "execution_count": 15,
   "metadata": {},
   "outputs": [
    {
     "data": {
      "text/plain": [
       "' '"
      ]
     },
     "execution_count": 15,
     "metadata": {},
     "output_type": "execute_result"
    }
   ],
   "source": [
    "match.group(2) # this is the match to the second parenthesis"
   ]
  },
  {
   "cell_type": "code",
   "execution_count": 16,
   "metadata": {},
   "outputs": [
    {
     "data": {
      "text/plain": [
       "'-'"
      ]
     },
     "execution_count": 16,
     "metadata": {},
     "output_type": "execute_result"
    }
   ],
   "source": [
    "match.group(3) # this is the match to the third parenthesis"
   ]
  },
  {
   "cell_type": "markdown",
   "metadata": {},
   "source": [
    "There is a special group number `0` which always refers to the entire regex. \n",
    "\n",
    "In our specific case this is repetitive, because we put parenthesis around the entire thing to create one explicitly. But in normal usage, you can leave off the outer parenthesis because you get a full match group \"for free\" with group number 0. The only downside is group number 0 never shows up in `match.groups()`, so you have to remember that you have a free match to the entire regex as group 0."
   ]
  },
  {
   "cell_type": "code",
   "execution_count": 17,
   "metadata": {},
   "outputs": [
    {
     "data": {
      "text/plain": [
       "'(202) 687-8700'"
      ]
     },
     "execution_count": 17,
     "metadata": {},
     "output_type": "execute_result"
    }
   ],
   "source": [
    "match.group(0) # this is the \"for free\" group that is matched to the entire regex"
   ]
  },
  {
   "cell_type": "code",
   "execution_count": 18,
   "metadata": {},
   "outputs": [
    {
     "data": {
      "text/plain": [
       "'(202) 687-8700'"
      ]
     },
     "execution_count": 18,
     "metadata": {},
     "output_type": "execute_result"
    }
   ],
   "source": [
    "match.group() # with no arguments, the default group to return is group 0"
   ]
  },
  {
   "cell_type": "markdown",
   "metadata": {},
   "source": [
    "### Now you try!\n",
    "\n",
    "Fill in the regex in the spots below to eventually find <font style=\"background-color:lightyellow;color:orange;\">\"linkedin.com/school/2630840/\"</font> in the Georgetown SCS HTML footer using regex against the linkedin domain name and what we know about how URLs are usually constructed.\n",
    "\n",
    "First, try to match just the domain name \"linkedin.com\". The part we are looking for is highlighted below:\n",
    "\n",
    "<font style=\"background-color:lightyellow;color:orange;\">linkedin.com</font>/school/2630840/"
   ]
  },
  {
   "cell_type": "code",
   "execution_count": 19,
   "metadata": {},
   "outputs": [
    {
     "name": "stdout",
     "output_type": "stream",
     "text": [
      "linkedin.com\n"
     ]
    }
   ],
   "source": [
    "regex_1 = r\"linkedin.com\" # add your regex here!\n",
    "match_1 = re.search(regex_1, georgetown_html)\n",
    "print(match_1.group())"
   ]
  },
  {
   "cell_type": "markdown",
   "metadata": {},
   "source": [
    "Now try to match where there is a slash after the domain name, like, \"linkedin.com/\"\n",
    "\n",
    "<font style=\"background-color:lightyellow;color:orange;\">linkedin.com/</font>school/2630840/"
   ]
  },
  {
   "cell_type": "code",
   "execution_count": 20,
   "metadata": {},
   "outputs": [
    {
     "name": "stdout",
     "output_type": "stream",
     "text": [
      "linkedin.com/\n"
     ]
    }
   ],
   "source": [
    "regex_2 = r\"linkedin.com/\" # add your regex here!\n",
    "match_2 = re.search(regex_2, georgetown_html)\n",
    "print(match_2.group())"
   ]
  },
  {
   "cell_type": "markdown",
   "metadata": {},
   "source": [
    "Now try to match where there are at least **one or more** *alphanumeric* characters after the domain name and slash, like you are looking for links in the document to specific links on Linkedin's website.\n",
    "\n",
    "<font style=\"background-color:lightyellow;color:orange;\">linkedin.com/school/</font>2630840/"
   ]
  },
  {
   "cell_type": "code",
   "execution_count": 21,
   "metadata": {},
   "outputs": [
    {
     "name": "stdout",
     "output_type": "stream",
     "text": [
      "linkedin.com/school\n"
     ]
    }
   ],
   "source": [
    "regex_3 = r\"linkedin.com/(\\w*)\" # add your regex here!\n",
    "match_3 = re.search(regex_3, georgetown_html)\n",
    "print(match_3.group())"
   ]
  },
  {
   "cell_type": "markdown",
   "metadata": {},
   "source": [
    "URLs can have arbitrary numbers of forward slashes with alphanumeric characters between them to create a heirarchical URL structure. Let's allow our regex to keep matching on one or more of those individual paths.\n",
    "\n",
    "Said another way, there is a common pattern between <font style=\"background-color:lavender;color:purple;\">\"school/\"</font> and <font style=\"background-color:lavender;color:magenta;\">\"2630840/\"</font>, which could be repeated an arbitrary number of times to make a URL. They both have \n",
    "a) one or more alphnumeric characters \n",
    "b) separated by a forward slash.\n",
    "\n",
    "<font style=\"background-color:lightyellow;color:orange;\">linkedin.com/</font><font style=\"background-color:lavender;color:purple;\">school/</font><font style=\"background-color:lavender;color:magenta;\">2630840/</font>\n",
    "\n",
    "Let's expand our regex so that we can capture as many of these types of groups as could exist."
   ]
  },
  {
   "cell_type": "code",
   "execution_count": 22,
   "metadata": {},
   "outputs": [
    {
     "name": "stdout",
     "output_type": "stream",
     "text": [
      "linkedin.com/school/2630840/\n"
     ]
    }
   ],
   "source": [
    "regex_4 = r\"linkedin.com/(\\w*/)+\" # add your regex here!\n",
    "match_4 = re.search(regex_4, georgetown_html)\n",
    "print(match_4.group())"
   ]
  },
  {
   "cell_type": "markdown",
   "metadata": {},
   "source": [
    "Did you get it all? Now we have a regex that can look for URLs linking out to linkedin.com. Even if the end parts of the URL change, our regex will still work because the pattern is based on how URLs are constructed."
   ]
  },
  {
   "cell_type": "markdown",
   "metadata": {},
   "source": [
    "### Using `re.findall`\n",
    "\n",
    "Okay, let's try to use `re.findall` instead now. Let's use a different example that has more than one matching substring in it.\n",
    "\n",
    "Let's use our weather forecast tombstone HTML we all know and love:"
   ]
  },
  {
   "cell_type": "code",
   "execution_count": 23,
   "metadata": {},
   "outputs": [],
   "source": [
    "forecast_html = \"\"\"<div id=\"seven-day-forecast\" class=\"panel panel-default\">\n",
    "    <div class=\"panel-heading\">\n",
    "\t<b>Extended Forecast for</b>\n",
    "\t<h2 class=\"panel-title\">\n",
    "\t    \t    2 Miles ESE Washington DC\t</h2>\n",
    "    </div>\n",
    "    <div class=\"panel-body\" id=\"seven-day-forecast-body\">\n",
    "\t\t\t<div id=\"seven-day-forecast-container\"><div id=\"headline-container\" class=\"current-hazard\" style=\"margin-left: 124px\"><div id=\"headline-separator\" style=\"top: 34px; height: 131px\"></div><div id=\"headline-info\" style=\"margin-top: 5px\" onclick=\"$('#headline-detail').toggle(); $('#headline-detail-now').hide()\"><div id=\"headline-detail\"><div>Dense Fog Advisory until October 22, 12:00pm</div></div><span class=\"fa fa-info-circle\"></span>Click here for hazard details and duration</div><div class=\"headline-bar headline-advisory \" style=\"top: 40px; left: 19px; height: 125px; width: 43px\">\n",
    "<div class=\"headline-title\">Dense Fog Advisory</div>\n",
    "</div></div><ul id=\"seven-day-forecast-list\" class=\"list-unstyled\" style=\"padding-top: 60px\"><li class=\"forecast-tombstone current-hazard current-hazard-advisory\" onclick=\"$('#headline-detail-now').toggle(); $('#headline-detail').hide()\">\n",
    "<div class=\"top-bar\">&nbsp;<div id=\"headline-detail-now\"><div>Dense Fog Advisory until October 22, 12:00pm</div></div><span class=\"tab\"></span><span class=\"fa fa-info-circle\"></span></div><div class=\"tombstone-container\">\n",
    "<p class=\"period-name\">NOW until<br>12:00pm Thu</p>\n",
    "<p><img src=\"DualImage.php?i=fg&amp;j=sct\" alt=\"\" title=\"\" class=\"forecast-icon\"></p><p class=\"short-desc\" style=\"height: 68px;\">Dense Fog Advisory</p></div></li><li class=\"forecast-tombstone\">\n",
    "<div class=\"tombstone-container\">\n",
    "<p class=\"period-name\">Today<br><br></p>\n",
    "<p><img src=\"DualImage.php?i=fg&amp;j=sct\" alt=\"Today: Areas of fog before 11am.  Otherwise, partly sunny, with a high near 77. Calm wind becoming southeast around 5 mph in the afternoon. \" title=\"Today: Areas of fog before 11am.  Otherwise, partly sunny, with a high near 77. Calm wind becoming southeast around 5 mph in the afternoon. \" class=\"forecast-icon\"></p><p class=\"short-desc\" style=\"height: 68px;\">Areas Fog<br>then Mostly<br>Sunny</p><p class=\"temp temp-high\">High: 77 °F</p></div></li><li class=\"forecast-tombstone\">\n",
    "<div class=\"tombstone-container\">\n",
    "<p class=\"period-name\">Tonight<br><br></p>\n",
    "<p><img src=\"newimages/medium/nfg.png\" alt=\"Tonight: Areas of fog before 1am, then areas of fog after 2am.  Otherwise, increasing clouds, with a low around 60. South wind 3 to 5 mph. \" title=\"Tonight: Areas of fog before 1am, then areas of fog after 2am.  Otherwise, increasing clouds, with a low around 60. South wind 3 to 5 mph. \" class=\"forecast-icon\"></p><p class=\"short-desc\" style=\"height: 68px;\">Areas Fog</p><p class=\"temp temp-low\">Low: 60 °F</p></div></li><li class=\"forecast-tombstone\">\n",
    "<div class=\"tombstone-container\">\n",
    "<p class=\"period-name\">Friday<br><br></p>\n",
    "<p><img src=\"DualImage.php?i=fg&amp;j=sct\" alt=\"Friday: Areas of fog before 11am.  Otherwise, cloudy, then gradually becoming mostly sunny, with a high near 74. Southeast wind 3 to 6 mph. \" title=\"Friday: Areas of fog before 11am.  Otherwise, cloudy, then gradually becoming mostly sunny, with a high near 74. Southeast wind 3 to 6 mph. \" class=\"forecast-icon\"></p><p class=\"short-desc\" style=\"height: 68px;\">Areas Fog<br>then Mostly<br>Sunny</p><p class=\"temp temp-high\">High: 74 °F</p></div></li><li class=\"forecast-tombstone\">\n",
    "<div class=\"tombstone-container\">\n",
    "<p class=\"period-name\">Friday<br>Night</p>\n",
    "<p><img src=\"newimages/medium/nsct.png\" alt=\"Friday Night: Partly cloudy, with a low around 58. South wind 3 to 6 mph. \" title=\"Friday Night: Partly cloudy, with a low around 58. South wind 3 to 6 mph. \" class=\"forecast-icon\"></p><p class=\"short-desc\" style=\"height: 68px;\">Partly Cloudy</p><p class=\"temp temp-low\">Low: 58 °F</p></div></li><li class=\"forecast-tombstone\">\n",
    "<div class=\"tombstone-container\">\n",
    "<p class=\"period-name\">Saturday<br><br></p>\n",
    "<p><img src=\"DualImage.php?i=sct&amp;j=shra&amp;jp=20\" alt=\"Saturday: A slight chance of showers after 2pm.  Mostly sunny, with a high near 75. Light and variable wind becoming northwest 5 to 7 mph in the morning.  Chance of precipitation is 20%.\" title=\"Saturday: A slight chance of showers after 2pm.  Mostly sunny, with a high near 75. Light and variable wind becoming northwest 5 to 7 mph in the morning.  Chance of precipitation is 20%.\" class=\"forecast-icon\"></p><p class=\"short-desc\" style=\"height: 68px;\">Mostly Sunny<br>then Slight<br>Chance<br>Showers</p><p class=\"temp temp-high\">High: 75 °F</p></div></li><li class=\"forecast-tombstone\">\n",
    "<div class=\"tombstone-container\">\n",
    "<p class=\"period-name\">Saturday<br>Night</p>\n",
    "<p><img src=\"newimages/medium/nbkn.png\" alt=\"Saturday Night: Mostly cloudy, with a low around 49.\" title=\"Saturday Night: Mostly cloudy, with a low around 49.\" class=\"forecast-icon\"></p><p class=\"short-desc\" style=\"height: 68px;\">Mostly Cloudy</p><p class=\"temp temp-low\">Low: 49 °F</p></div></li><li class=\"forecast-tombstone\">\n",
    "<div class=\"tombstone-container\">\n",
    "<p class=\"period-name\">Sunday<br><br></p>\n",
    "<p><img src=\"newimages/medium/bkn.png\" alt=\"Sunday: Mostly cloudy, with a high near 57.\" title=\"Sunday: Mostly cloudy, with a high near 57.\" class=\"forecast-icon\"></p><p class=\"short-desc\" style=\"height: 68px;\">Mostly Cloudy</p><p class=\"temp temp-high\">High: 57 °F</p></div></li><li class=\"forecast-tombstone\">\n",
    "<div class=\"tombstone-container\">\n",
    "<p class=\"period-name\">Sunday<br>Night</p>\n",
    "<p><img src=\"newimages/medium/nbkn.png\" alt=\"Sunday Night: Mostly cloudy, with a low around 52.\" title=\"Sunday Night: Mostly cloudy, with a low around 52.\" class=\"forecast-icon\"></p><p class=\"short-desc\" style=\"height: 68px;\">Mostly Cloudy</p><p class=\"temp temp-low\">Low: 52 °F</p></div></li></ul></div>\n",
    "<script type=\"text/javascript\">\n",
    "// equalize forecast heights\n",
    "$(function () {\n",
    "\tvar maxh = 0;\n",
    "\t$(\".forecast-tombstone .short-desc\").each(function () {\n",
    "\t\tvar h = $(this).height();\n",
    "\t\tif (h > maxh) { maxh = h; }\n",
    "\t});\n",
    "\t$(\".forecast-tombstone .short-desc\").height(maxh);\n",
    "});\n",
    "</script>\t</div>\n",
    "</div>\"\"\""
   ]
  },
  {
   "cell_type": "markdown",
   "metadata": {},
   "source": [
    "Let's try and find all of the daytime temperatures in here, since they have a pattern we can recognize. Here's my regex:"
   ]
  },
  {
   "cell_type": "code",
   "execution_count": 24,
   "metadata": {},
   "outputs": [],
   "source": [
    "temperature_regex = r\"(High: (\\d{2}) °F)\""
   ]
  },
  {
   "cell_type": "markdown",
   "metadata": {},
   "source": [
    "Now let's use the `re.findall` function to return all of the matched groups/subgroups as a list."
   ]
  },
  {
   "cell_type": "code",
   "execution_count": 25,
   "metadata": {},
   "outputs": [],
   "source": [
    "matches = re.findall(temperature_regex, forecast_html)"
   ]
  },
  {
   "cell_type": "code",
   "execution_count": 26,
   "metadata": {},
   "outputs": [
    {
     "data": {
      "text/plain": [
       "list"
      ]
     },
     "execution_count": 26,
     "metadata": {},
     "output_type": "execute_result"
    }
   ],
   "source": [
    "type(matches)"
   ]
  },
  {
   "cell_type": "code",
   "execution_count": 27,
   "metadata": {},
   "outputs": [
    {
     "data": {
      "text/plain": [
       "4"
      ]
     },
     "execution_count": 27,
     "metadata": {},
     "output_type": "execute_result"
    }
   ],
   "source": [
    "len(matches)"
   ]
  },
  {
   "cell_type": "code",
   "execution_count": 28,
   "metadata": {},
   "outputs": [
    {
     "name": "stdout",
     "output_type": "stream",
     "text": [
      "[('High: 77 °F', '77'), ('High: 74 °F', '74'), ('High: 75 °F', '75'), ('High: 57 °F', '57')]\n"
     ]
    }
   ],
   "source": [
    "print(matches)"
   ]
  },
  {
   "cell_type": "markdown",
   "metadata": {},
   "source": [
    "Each individual object in the list is a tuple of all the strings that matched the groups or subgroups.\n",
    "Note that `re.findall` does **NOT** return `Match` objects, just the pure strings!"
   ]
  },
  {
   "cell_type": "code",
   "execution_count": 29,
   "metadata": {},
   "outputs": [
    {
     "data": {
      "text/plain": [
       "tuple"
      ]
     },
     "execution_count": 29,
     "metadata": {},
     "output_type": "execute_result"
    }
   ],
   "source": [
    "type(matches[0]) # the first tuple in the list"
   ]
  },
  {
   "cell_type": "code",
   "execution_count": 30,
   "metadata": {},
   "outputs": [
    {
     "data": {
      "text/plain": [
       "str"
      ]
     },
     "execution_count": 30,
     "metadata": {},
     "output_type": "execute_result"
    }
   ],
   "source": [
    "type(matches[0][0])  # the first string in the first tuple in the list"
   ]
  },
  {
   "cell_type": "markdown",
   "metadata": {},
   "source": [
    "### Now you try!\n",
    "\n",
    "Let's amend this regex so that we can get out the High AND the Low temperatures."
   ]
  },
  {
   "cell_type": "code",
   "execution_count": 31,
   "metadata": {},
   "outputs": [
    {
     "name": "stdout",
     "output_type": "stream",
     "text": [
      "[('High: 77 °F', 'High:', '77'), ('Low: 60 °F', 'Low:', '60'), ('High: 74 °F', 'High:', '74'), ('Low: 58 °F', 'Low:', '58'), ('High: 75 °F', 'High:', '75'), ('Low: 49 °F', 'Low:', '49'), ('High: 57 °F', 'High:', '57'), ('Low: 52 °F', 'Low:', '52')]\n"
     ]
    }
   ],
   "source": [
    "new_temperature_regex = r\"((High:|Low:) (\\d{2}) °F)\" # change something in here to match whether the temperature is High or Low\n",
    "new_matches = re.findall(new_temperature_regex, forecast_html)\n",
    "print(new_matches)"
   ]
  },
  {
   "cell_type": "code",
   "execution_count": 32,
   "metadata": {},
   "outputs": [
    {
     "data": {
      "text/plain": [
       "8"
      ]
     },
     "execution_count": 32,
     "metadata": {},
     "output_type": "execute_result"
    }
   ],
   "source": [
    "len(new_matches) # should be 8"
   ]
  },
  {
   "cell_type": "markdown",
   "metadata": {},
   "source": [
    "Let's combine this with what we did two weeks ago to create a DataFrame with this data in it. Instantiate a DataFrame with this list of tuples in it. Since the list of tuples is a list of iterables where each iterable is a row, we can throw it straight into the `data` kwarg for DataFrame instantiation."
   ]
  },
  {
   "cell_type": "code",
   "execution_count": 33,
   "metadata": {},
   "outputs": [],
   "source": [
    "import pandas as pd\n",
    "df = pd.DataFrame(data=new_matches)"
   ]
  },
  {
   "cell_type": "code",
   "execution_count": 34,
   "metadata": {},
   "outputs": [
    {
     "data": {
      "text/html": [
       "<div>\n",
       "<style scoped>\n",
       "    .dataframe tbody tr th:only-of-type {\n",
       "        vertical-align: middle;\n",
       "    }\n",
       "\n",
       "    .dataframe tbody tr th {\n",
       "        vertical-align: top;\n",
       "    }\n",
       "\n",
       "    .dataframe thead th {\n",
       "        text-align: right;\n",
       "    }\n",
       "</style>\n",
       "<table border=\"1\" class=\"dataframe\">\n",
       "  <thead>\n",
       "    <tr style=\"text-align: right;\">\n",
       "      <th></th>\n",
       "      <th>0</th>\n",
       "      <th>1</th>\n",
       "      <th>2</th>\n",
       "    </tr>\n",
       "  </thead>\n",
       "  <tbody>\n",
       "    <tr>\n",
       "      <th>0</th>\n",
       "      <td>High: 77 °F</td>\n",
       "      <td>High:</td>\n",
       "      <td>77</td>\n",
       "    </tr>\n",
       "    <tr>\n",
       "      <th>1</th>\n",
       "      <td>Low: 60 °F</td>\n",
       "      <td>Low:</td>\n",
       "      <td>60</td>\n",
       "    </tr>\n",
       "    <tr>\n",
       "      <th>2</th>\n",
       "      <td>High: 74 °F</td>\n",
       "      <td>High:</td>\n",
       "      <td>74</td>\n",
       "    </tr>\n",
       "    <tr>\n",
       "      <th>3</th>\n",
       "      <td>Low: 58 °F</td>\n",
       "      <td>Low:</td>\n",
       "      <td>58</td>\n",
       "    </tr>\n",
       "    <tr>\n",
       "      <th>4</th>\n",
       "      <td>High: 75 °F</td>\n",
       "      <td>High:</td>\n",
       "      <td>75</td>\n",
       "    </tr>\n",
       "  </tbody>\n",
       "</table>\n",
       "</div>"
      ],
      "text/plain": [
       "             0      1   2\n",
       "0  High: 77 °F  High:  77\n",
       "1   Low: 60 °F   Low:  60\n",
       "2  High: 74 °F  High:  74\n",
       "3   Low: 58 °F   Low:  58\n",
       "4  High: 75 °F  High:  75"
      ]
     },
     "execution_count": 34,
     "metadata": {},
     "output_type": "execute_result"
    }
   ],
   "source": [
    "df.head()"
   ]
  }
 ],
 "metadata": {
  "kernelspec": {
   "display_name": "Python 3",
   "language": "python",
   "name": "python3"
  },
  "language_info": {
   "codemirror_mode": {
    "name": "ipython",
    "version": 3
   },
   "file_extension": ".py",
   "mimetype": "text/x-python",
   "name": "python",
   "nbconvert_exporter": "python",
   "pygments_lexer": "ipython3",
   "version": "3.8.3"
  }
 },
 "nbformat": 4,
 "nbformat_minor": 4
}
