{
 "cells": [
  {
   "cell_type": "markdown",
   "metadata": {},
   "source": [
    "# Pandas API walkthrough\n",
    "\n",
    "Let's walk through the `pandas` API we learned in the lecture video together!\n",
    "\n",
    "This lab assumes you've watched the pre-lab videos on both Object-Oriented Python and Intro to Pandas. If you didn't have time to do that, go do that now instead."
   ]
  },
  {
   "cell_type": "markdown",
   "metadata": {},
   "source": [
    "----\n",
    "\n",
    "We always need to import pandas since it is outside the Python built-ins. You must execute this in a Python environment that the pandas library has been installed into, since it is not in the Python standard library. If you are using the Anaconda version of Python, you already have it."
   ]
  },
  {
   "cell_type": "code",
   "execution_count": 1,
   "metadata": {},
   "outputs": [],
   "source": [
    "import pandas as pd"
   ]
  },
  {
   "cell_type": "markdown",
   "metadata": {},
   "source": [
    "## Importing Data\n",
    "\n",
    "Next we will always want to create a DataFrame, since the whole point of pandas is to get your data into a DataFrame so you can use nice DataFrame methods on it to do data analysis.\n",
    "\n",
    "The easiest way is with a convenience function against a file. The file can be a path on disk, or a URL accessible over the web.\n",
    "\n",
    "You can check out the entire function signature of `read_csv` [here](https://pandas.pydata.org/pandas-docs/stable/reference/api/pandas.read_csv.html), but I will highlight just a few of the most important arguments.\n",
    "\n",
    "A few notes first:\n",
    "\n",
    "- the first positional argument is always a reference to the file, either a string or a File-like object\n",
    "- all other arguments are *keyword arguments* (also called \"kwargs\"), which must be specified by name, NOT by position\n",
    "\n",
    "Here are some kwargs to help you import data:\n",
    "- `sep` or `delimiter`: a string of the character that represents the separation between columns on the same line\n",
    "- `header`: the row number to use as the header, and also the start of the data (all rows before this number will be ignored). Can also use `None` if no header in the data\n",
    "- `names`: a list of strings of the column names to use, in order\n",
    "- `dtype`: a dictionary of column names to data types indicating what type each column should be inferred as\n",
    "- `na_values`: a string or list of strings to interpret as `NaN` if found in a cell\n",
    "- `index_col`: the column position, as an integer, to use as the index"
   ]
  },
  {
   "cell_type": "markdown",
   "metadata": {},
   "source": [
    "## Try it yourself!\n",
    "\n",
    "Each of the following calls to `read_csv` result in a badly imported DataFrame. Use one or more of the kwargs explained above to fix the issue. For your convenience, a preview of each file is also shown. Study the preview, look at the result from a naive call to `read_csv`, and then use the next section of cells to fix it using keyword arguments to `read_csv`.\n",
    "\n",
    "The four scenarios to try are:\n",
    "- Wine data - fix the columns\n",
    "- Iris data - should use columns `[\"Sepal Width\", \"Sepal Length\", \"Petal Width\", \"Petal Length\", \"Species\"]`\n",
    "- Hepatitis data - has no header fields, and `\"?\"` should be interpreted as `NaN`\n",
    "- Barley full data - use the source data index (which notably starts at 1), and make the year column import as `\"object\"` type"
   ]
  },
  {
   "cell_type": "markdown",
   "metadata": {},
   "source": [
    "-------\n",
    "### Wine data \n",
    "\n",
    "**Preview:**\n",
    "```\n",
    "\"fixed acidity\";\"volatile acidity\";\"citric acid\";\"residual sugar\";\"chlorides\";\"free sulfur dioxide\";\"total sulfur dioxide\";\"density\";\"pH\";\"sulphates\";\"alcohol\";\"quality\"\n",
    "7;0.27;0.36;20.7;0.045;45;170;1.001;3;0.45;8.8;6\n",
    "6.3;0.3;0.34;1.6;0.049;14;132;0.994;3.3;0.49;9.5;6\n",
    "8.1;0.28;0.4;6.9;0.05;30;97;0.9951;3.26;0.44;10.1;6\n",
    "7.2;0.23;0.32;8.5;0.058;47;186;0.9956;3.19;0.4;9.9;6\n",
    "```"
   ]
  },
  {
   "cell_type": "code",
   "execution_count": 12,
   "metadata": {},
   "outputs": [],
   "source": [
    "wine_df = pd.read_csv(\"https://archive.ics.uci.edu/ml/machine-learning-databases/wine-quality/winequality-white.csv\")"
   ]
  },
  {
   "cell_type": "code",
   "execution_count": 13,
   "metadata": {},
   "outputs": [
    {
     "data": {
      "text/html": [
       "<div>\n",
       "<style scoped>\n",
       "    .dataframe tbody tr th:only-of-type {\n",
       "        vertical-align: middle;\n",
       "    }\n",
       "\n",
       "    .dataframe tbody tr th {\n",
       "        vertical-align: top;\n",
       "    }\n",
       "\n",
       "    .dataframe thead th {\n",
       "        text-align: right;\n",
       "    }\n",
       "</style>\n",
       "<table border=\"1\" class=\"dataframe\">\n",
       "  <thead>\n",
       "    <tr style=\"text-align: right;\">\n",
       "      <th></th>\n",
       "      <th>fixed acidity;\"volatile acidity\";\"citric acid\";\"residual sugar\";\"chlorides\";\"free sulfur dioxide\";\"total sulfur dioxide\";\"density\";\"pH\";\"sulphates\";\"alcohol\";\"quality\"</th>\n",
       "    </tr>\n",
       "  </thead>\n",
       "  <tbody>\n",
       "    <tr>\n",
       "      <th>0</th>\n",
       "      <td>7;0.27;0.36;20.7;0.045;45;170;1.001;3;0.45;8.8;6</td>\n",
       "    </tr>\n",
       "    <tr>\n",
       "      <th>1</th>\n",
       "      <td>6.3;0.3;0.34;1.6;0.049;14;132;0.994;3.3;0.49;9...</td>\n",
       "    </tr>\n",
       "    <tr>\n",
       "      <th>2</th>\n",
       "      <td>8.1;0.28;0.4;6.9;0.05;30;97;0.9951;3.26;0.44;1...</td>\n",
       "    </tr>\n",
       "    <tr>\n",
       "      <th>3</th>\n",
       "      <td>7.2;0.23;0.32;8.5;0.058;47;186;0.9956;3.19;0.4...</td>\n",
       "    </tr>\n",
       "    <tr>\n",
       "      <th>4</th>\n",
       "      <td>7.2;0.23;0.32;8.5;0.058;47;186;0.9956;3.19;0.4...</td>\n",
       "    </tr>\n",
       "  </tbody>\n",
       "</table>\n",
       "</div>"
      ],
      "text/plain": [
       "  fixed acidity;\"volatile acidity\";\"citric acid\";\"residual sugar\";\"chlorides\";\"free sulfur dioxide\";\"total sulfur dioxide\";\"density\";\"pH\";\"sulphates\";\"alcohol\";\"quality\"\n",
       "0   7;0.27;0.36;20.7;0.045;45;170;1.001;3;0.45;8.8;6                                                                                                                     \n",
       "1  6.3;0.3;0.34;1.6;0.049;14;132;0.994;3.3;0.49;9...                                                                                                                     \n",
       "2  8.1;0.28;0.4;6.9;0.05;30;97;0.9951;3.26;0.44;1...                                                                                                                     \n",
       "3  7.2;0.23;0.32;8.5;0.058;47;186;0.9956;3.19;0.4...                                                                                                                     \n",
       "4  7.2;0.23;0.32;8.5;0.058;47;186;0.9956;3.19;0.4...                                                                                                                     "
      ]
     },
     "execution_count": 13,
     "metadata": {},
     "output_type": "execute_result"
    }
   ],
   "source": [
    "wine_df.head()"
   ]
  },
  {
   "cell_type": "markdown",
   "metadata": {},
   "source": [
    "### Fix the wine data below!"
   ]
  },
  {
   "cell_type": "code",
   "execution_count": null,
   "metadata": {},
   "outputs": [],
   "source": [
    "# add a kwarg to `read_csv` that will fix the import\n",
    "wine_df_2 = pd.read_csv(\"https://archive.ics.uci.edu/ml/machine-learning-databases/wine-quality/winequality-white.csv\")\n",
    "wine_df_2.head()"
   ]
  },
  {
   "cell_type": "markdown",
   "metadata": {},
   "source": [
    "-------\n",
    "### Iris data\n",
    "\n",
    "**Preview:**\n",
    "```\n",
    "5.1,3.5,1.4,0.2,Iris-setosa\n",
    "4.9,3.0,1.4,0.2,Iris-setosa\n",
    "4.7,3.2,1.3,0.2,Iris-setosa\n",
    "4.6,3.1,1.5,0.2,Iris-setosa\n",
    "5.0,3.6,1.4,0.2,Iris-setosa\n",
    "```"
   ]
  },
  {
   "cell_type": "code",
   "execution_count": 20,
   "metadata": {},
   "outputs": [
    {
     "data": {
      "text/html": [
       "<div>\n",
       "<style scoped>\n",
       "    .dataframe tbody tr th:only-of-type {\n",
       "        vertical-align: middle;\n",
       "    }\n",
       "\n",
       "    .dataframe tbody tr th {\n",
       "        vertical-align: top;\n",
       "    }\n",
       "\n",
       "    .dataframe thead th {\n",
       "        text-align: right;\n",
       "    }\n",
       "</style>\n",
       "<table border=\"1\" class=\"dataframe\">\n",
       "  <thead>\n",
       "    <tr style=\"text-align: right;\">\n",
       "      <th></th>\n",
       "      <th>5.1</th>\n",
       "      <th>3.5</th>\n",
       "      <th>1.4</th>\n",
       "      <th>0.2</th>\n",
       "      <th>Iris-setosa</th>\n",
       "    </tr>\n",
       "  </thead>\n",
       "  <tbody>\n",
       "    <tr>\n",
       "      <th>0</th>\n",
       "      <td>4.9</td>\n",
       "      <td>3.0</td>\n",
       "      <td>1.4</td>\n",
       "      <td>0.2</td>\n",
       "      <td>Iris-setosa</td>\n",
       "    </tr>\n",
       "    <tr>\n",
       "      <th>1</th>\n",
       "      <td>4.7</td>\n",
       "      <td>3.2</td>\n",
       "      <td>1.3</td>\n",
       "      <td>0.2</td>\n",
       "      <td>Iris-setosa</td>\n",
       "    </tr>\n",
       "    <tr>\n",
       "      <th>2</th>\n",
       "      <td>4.6</td>\n",
       "      <td>3.1</td>\n",
       "      <td>1.5</td>\n",
       "      <td>0.2</td>\n",
       "      <td>Iris-setosa</td>\n",
       "    </tr>\n",
       "    <tr>\n",
       "      <th>3</th>\n",
       "      <td>5.0</td>\n",
       "      <td>3.6</td>\n",
       "      <td>1.4</td>\n",
       "      <td>0.2</td>\n",
       "      <td>Iris-setosa</td>\n",
       "    </tr>\n",
       "    <tr>\n",
       "      <th>4</th>\n",
       "      <td>5.4</td>\n",
       "      <td>3.9</td>\n",
       "      <td>1.7</td>\n",
       "      <td>0.4</td>\n",
       "      <td>Iris-setosa</td>\n",
       "    </tr>\n",
       "  </tbody>\n",
       "</table>\n",
       "</div>"
      ],
      "text/plain": [
       "   5.1  3.5  1.4  0.2  Iris-setosa\n",
       "0  4.9  3.0  1.4  0.2  Iris-setosa\n",
       "1  4.7  3.2  1.3  0.2  Iris-setosa\n",
       "2  4.6  3.1  1.5  0.2  Iris-setosa\n",
       "3  5.0  3.6  1.4  0.2  Iris-setosa\n",
       "4  5.4  3.9  1.7  0.4  Iris-setosa"
      ]
     },
     "execution_count": 20,
     "metadata": {},
     "output_type": "execute_result"
    }
   ],
   "source": [
    "iris_df = pd.read_csv(\"https://archive.ics.uci.edu/ml/machine-learning-databases/iris/iris.data\")\n",
    "iris_df.head()"
   ]
  },
  {
   "cell_type": "markdown",
   "metadata": {},
   "source": [
    "### Fix the iris data below!"
   ]
  },
  {
   "cell_type": "code",
   "execution_count": null,
   "metadata": {},
   "outputs": [],
   "source": [
    "iris_df_2 = pd.read_csv(\"https://archive.ics.uci.edu/ml/machine-learning-databases/iris/iris.data\")\n",
    "iris_df_2.head()"
   ]
  },
  {
   "cell_type": "markdown",
   "metadata": {},
   "source": [
    "-------\n",
    "### Hepatitis data\n",
    "\n",
    "**Preview**:\n",
    "```\n",
    "2,30,2,1,2,2,2,2,1,2,2,2,2,2,1.00,85,18,4.0,?,1\n",
    "2,50,1,1,2,1,2,2,1,2,2,2,2,2,0.90,135,42,3.5,?,1\n",
    "2,78,1,2,2,1,2,2,2,2,2,2,2,2,0.70,96,32,4.0,?,1\n",
    "2,31,1,?,1,2,2,2,2,2,2,2,2,2,0.70,46,52,4.0,80,1\n",
    "2,34,1,2,2,2,2,2,2,2,2,2,2,2,1.00,?,200,4.0,?,1\n",
    "```"
   ]
  },
  {
   "cell_type": "code",
   "execution_count": 16,
   "metadata": {},
   "outputs": [
    {
     "data": {
      "text/html": [
       "<div>\n",
       "<style scoped>\n",
       "    .dataframe tbody tr th:only-of-type {\n",
       "        vertical-align: middle;\n",
       "    }\n",
       "\n",
       "    .dataframe tbody tr th {\n",
       "        vertical-align: top;\n",
       "    }\n",
       "\n",
       "    .dataframe thead th {\n",
       "        text-align: right;\n",
       "    }\n",
       "</style>\n",
       "<table border=\"1\" class=\"dataframe\">\n",
       "  <thead>\n",
       "    <tr style=\"text-align: right;\">\n",
       "      <th></th>\n",
       "      <th>2</th>\n",
       "      <th>30</th>\n",
       "      <th>2.1</th>\n",
       "      <th>1</th>\n",
       "      <th>2.2</th>\n",
       "      <th>2.3</th>\n",
       "      <th>2.4</th>\n",
       "      <th>2.5</th>\n",
       "      <th>1.1</th>\n",
       "      <th>2.6</th>\n",
       "      <th>2.7</th>\n",
       "      <th>2.8</th>\n",
       "      <th>2.9</th>\n",
       "      <th>2.10</th>\n",
       "      <th>1.00</th>\n",
       "      <th>85</th>\n",
       "      <th>18</th>\n",
       "      <th>4.0</th>\n",
       "      <th>?</th>\n",
       "      <th>1.2</th>\n",
       "    </tr>\n",
       "  </thead>\n",
       "  <tbody>\n",
       "    <tr>\n",
       "      <th>0</th>\n",
       "      <td>2</td>\n",
       "      <td>50</td>\n",
       "      <td>1</td>\n",
       "      <td>1</td>\n",
       "      <td>2</td>\n",
       "      <td>1</td>\n",
       "      <td>2</td>\n",
       "      <td>2</td>\n",
       "      <td>1</td>\n",
       "      <td>2</td>\n",
       "      <td>2</td>\n",
       "      <td>2</td>\n",
       "      <td>2</td>\n",
       "      <td>2</td>\n",
       "      <td>0.90</td>\n",
       "      <td>135</td>\n",
       "      <td>42</td>\n",
       "      <td>3.5</td>\n",
       "      <td>?</td>\n",
       "      <td>1</td>\n",
       "    </tr>\n",
       "    <tr>\n",
       "      <th>1</th>\n",
       "      <td>2</td>\n",
       "      <td>78</td>\n",
       "      <td>1</td>\n",
       "      <td>2</td>\n",
       "      <td>2</td>\n",
       "      <td>1</td>\n",
       "      <td>2</td>\n",
       "      <td>2</td>\n",
       "      <td>2</td>\n",
       "      <td>2</td>\n",
       "      <td>2</td>\n",
       "      <td>2</td>\n",
       "      <td>2</td>\n",
       "      <td>2</td>\n",
       "      <td>0.70</td>\n",
       "      <td>96</td>\n",
       "      <td>32</td>\n",
       "      <td>4.0</td>\n",
       "      <td>?</td>\n",
       "      <td>1</td>\n",
       "    </tr>\n",
       "    <tr>\n",
       "      <th>2</th>\n",
       "      <td>2</td>\n",
       "      <td>31</td>\n",
       "      <td>1</td>\n",
       "      <td>?</td>\n",
       "      <td>1</td>\n",
       "      <td>2</td>\n",
       "      <td>2</td>\n",
       "      <td>2</td>\n",
       "      <td>2</td>\n",
       "      <td>2</td>\n",
       "      <td>2</td>\n",
       "      <td>2</td>\n",
       "      <td>2</td>\n",
       "      <td>2</td>\n",
       "      <td>0.70</td>\n",
       "      <td>46</td>\n",
       "      <td>52</td>\n",
       "      <td>4.0</td>\n",
       "      <td>80</td>\n",
       "      <td>1</td>\n",
       "    </tr>\n",
       "    <tr>\n",
       "      <th>3</th>\n",
       "      <td>2</td>\n",
       "      <td>34</td>\n",
       "      <td>1</td>\n",
       "      <td>2</td>\n",
       "      <td>2</td>\n",
       "      <td>2</td>\n",
       "      <td>2</td>\n",
       "      <td>2</td>\n",
       "      <td>2</td>\n",
       "      <td>2</td>\n",
       "      <td>2</td>\n",
       "      <td>2</td>\n",
       "      <td>2</td>\n",
       "      <td>2</td>\n",
       "      <td>1.00</td>\n",
       "      <td>?</td>\n",
       "      <td>200</td>\n",
       "      <td>4.0</td>\n",
       "      <td>?</td>\n",
       "      <td>1</td>\n",
       "    </tr>\n",
       "    <tr>\n",
       "      <th>4</th>\n",
       "      <td>2</td>\n",
       "      <td>34</td>\n",
       "      <td>1</td>\n",
       "      <td>2</td>\n",
       "      <td>2</td>\n",
       "      <td>2</td>\n",
       "      <td>2</td>\n",
       "      <td>2</td>\n",
       "      <td>2</td>\n",
       "      <td>2</td>\n",
       "      <td>2</td>\n",
       "      <td>2</td>\n",
       "      <td>2</td>\n",
       "      <td>2</td>\n",
       "      <td>0.90</td>\n",
       "      <td>95</td>\n",
       "      <td>28</td>\n",
       "      <td>4.0</td>\n",
       "      <td>75</td>\n",
       "      <td>1</td>\n",
       "    </tr>\n",
       "  </tbody>\n",
       "</table>\n",
       "</div>"
      ],
      "text/plain": [
       "   2  30  2.1  1  2.2 2.3 2.4 2.5 1.1 2.6 2.7 2.8 2.9 2.10  1.00   85   18  \\\n",
       "0  2  50    1  1    2   1   2   2   1   2   2   2   2    2  0.90  135   42   \n",
       "1  2  78    1  2    2   1   2   2   2   2   2   2   2    2  0.70   96   32   \n",
       "2  2  31    1  ?    1   2   2   2   2   2   2   2   2    2  0.70   46   52   \n",
       "3  2  34    1  2    2   2   2   2   2   2   2   2   2    2  1.00    ?  200   \n",
       "4  2  34    1  2    2   2   2   2   2   2   2   2   2    2  0.90   95   28   \n",
       "\n",
       "   4.0   ?  1.2  \n",
       "0  3.5   ?    1  \n",
       "1  4.0   ?    1  \n",
       "2  4.0  80    1  \n",
       "3  4.0   ?    1  \n",
       "4  4.0  75    1  "
      ]
     },
     "execution_count": 16,
     "metadata": {},
     "output_type": "execute_result"
    }
   ],
   "source": [
    "hepatitis_df = pd.read_csv(\"https://archive.ics.uci.edu/ml/machine-learning-databases/hepatitis/hepatitis.data\")\n",
    "hepatitis_df.head()"
   ]
  },
  {
   "cell_type": "markdown",
   "metadata": {},
   "source": [
    "### Fix the hepatitis data below!"
   ]
  },
  {
   "cell_type": "code",
   "execution_count": null,
   "metadata": {},
   "outputs": [],
   "source": [
    "hepatitis_df_2 = pd.read_csv(\"https://archive.ics.uci.edu/ml/machine-learning-databases/hepatitis/hepatitis.data\")\n",
    "hepatitis_df_2.head()"
   ]
  },
  {
   "cell_type": "markdown",
   "metadata": {},
   "source": [
    "-----\n",
    "### Barley full data\n",
    "\n",
    "**Preview**:\n",
    "```\n",
    ",yield,gen,year,site\n",
    "1,47.5,Manchuria,1927,StPaul\n",
    "2,45.4,Glabron,1927,StPaul\n",
    "3,45,Svansota,1927,StPaul\n",
    "4,43.4,Velvet,1927,StPaul\n",
    "```"
   ]
  },
  {
   "cell_type": "code",
   "execution_count": 28,
   "metadata": {},
   "outputs": [
    {
     "data": {
      "text/html": [
       "<div>\n",
       "<style scoped>\n",
       "    .dataframe tbody tr th:only-of-type {\n",
       "        vertical-align: middle;\n",
       "    }\n",
       "\n",
       "    .dataframe tbody tr th {\n",
       "        vertical-align: top;\n",
       "    }\n",
       "\n",
       "    .dataframe thead th {\n",
       "        text-align: right;\n",
       "    }\n",
       "</style>\n",
       "<table border=\"1\" class=\"dataframe\">\n",
       "  <thead>\n",
       "    <tr style=\"text-align: right;\">\n",
       "      <th></th>\n",
       "      <th>Unnamed: 0</th>\n",
       "      <th>yield</th>\n",
       "      <th>gen</th>\n",
       "      <th>year</th>\n",
       "      <th>site</th>\n",
       "    </tr>\n",
       "  </thead>\n",
       "  <tbody>\n",
       "    <tr>\n",
       "      <th>0</th>\n",
       "      <td>1</td>\n",
       "      <td>47.5</td>\n",
       "      <td>Manchuria</td>\n",
       "      <td>1927</td>\n",
       "      <td>StPaul</td>\n",
       "    </tr>\n",
       "    <tr>\n",
       "      <th>1</th>\n",
       "      <td>2</td>\n",
       "      <td>45.4</td>\n",
       "      <td>Glabron</td>\n",
       "      <td>1927</td>\n",
       "      <td>StPaul</td>\n",
       "    </tr>\n",
       "    <tr>\n",
       "      <th>2</th>\n",
       "      <td>3</td>\n",
       "      <td>45.0</td>\n",
       "      <td>Svansota</td>\n",
       "      <td>1927</td>\n",
       "      <td>StPaul</td>\n",
       "    </tr>\n",
       "    <tr>\n",
       "      <th>3</th>\n",
       "      <td>4</td>\n",
       "      <td>43.4</td>\n",
       "      <td>Velvet</td>\n",
       "      <td>1927</td>\n",
       "      <td>StPaul</td>\n",
       "    </tr>\n",
       "    <tr>\n",
       "      <th>4</th>\n",
       "      <td>5</td>\n",
       "      <td>60.2</td>\n",
       "      <td>Trebi</td>\n",
       "      <td>1927</td>\n",
       "      <td>StPaul</td>\n",
       "    </tr>\n",
       "  </tbody>\n",
       "</table>\n",
       "</div>"
      ],
      "text/plain": [
       "   Unnamed: 0  yield        gen  year    site\n",
       "0           1   47.5  Manchuria  1927  StPaul\n",
       "1           2   45.4    Glabron  1927  StPaul\n",
       "2           3   45.0   Svansota  1927  StPaul\n",
       "3           4   43.4     Velvet  1927  StPaul\n",
       "4           5   60.2      Trebi  1927  StPaul"
      ]
     },
     "execution_count": 28,
     "metadata": {},
     "output_type": "execute_result"
    }
   ],
   "source": [
    "barley_full_df = pd.read_csv(\"https://gist.githubusercontent.com/anonymous/58f6723852c25df8f9d5bfbead633367/raw/51503c5e8ec4ea2197671fdc6188867e4e9f377c/barleyfull.csv\")\n",
    "barley_full_df.head()"
   ]
  },
  {
   "cell_type": "code",
   "execution_count": 30,
   "metadata": {},
   "outputs": [
    {
     "data": {
      "text/plain": [
       "Unnamed: 0      int64\n",
       "yield         float64\n",
       "gen            object\n",
       "year            int64\n",
       "site           object\n",
       "dtype: object"
      ]
     },
     "execution_count": 30,
     "metadata": {},
     "output_type": "execute_result"
    }
   ],
   "source": [
    "barley_full_df.dtypes"
   ]
  },
  {
   "cell_type": "markdown",
   "metadata": {},
   "source": [
    "### Fix the barley full data below!"
   ]
  },
  {
   "cell_type": "code",
   "execution_count": null,
   "metadata": {},
   "outputs": [],
   "source": [
    "barley_full_df_2 = pd.read_csv(\"https://gist.githubusercontent.com/anonymous/58f6723852c25df8f9d5bfbead633367/raw/51503c5e8ec4ea2197671fdc6188867e4e9f377c/barleyfull.csv\")\n",
    "barley_full_df_2.head()"
   ]
  },
  {
   "cell_type": "code",
   "execution_count": null,
   "metadata": {},
   "outputs": [],
   "source": [
    "barley_full_df_2.dtypes"
   ]
  },
  {
   "cell_type": "markdown",
   "metadata": {},
   "source": [
    "----\n",
    "For more reading on importing (and exporting!) data, see: https://pandas.pydata.org/docs/getting_started/intro_tutorials/02_read_write.html"
   ]
  },
  {
   "cell_type": "markdown",
   "metadata": {},
   "source": [
    "-----\n",
    "\n",
    "## Indexing dataframes\n",
    "\n",
    "We saw in the lecture that there are three ways to index DataFrames:\n",
    "\n",
    "- by column, using `df[]` notation\n",
    "- using location, using `df.loc[]` notation\n",
    "- using index location, using `df.iloc[]` notation\n",
    "\n",
    "In each of these cases, the square brackets `[]` are filled with something different, particular to the type of index notation being used.\n",
    "\n",
    "Column notation always takes a column name, and returns the specified **column** as a `Series` object. For example, `df['Sepal Width']`.\n",
    "\n",
    "`iloc` can take only take index positions, and `loc` can only take names, and in their basic form returns the specified **row** as a `Series` object. For example, `df.iloc[0]` or `df.loc['row 1']` would each pull out the rows\n",
    "\n",
    "The more advanced form of `iloc` and `loc` is to provide two coordinates, for when you want to pull out a single cell. They are always in the format and order of `[row, column]`; such as `df.iloc[0,1]` for row position 0, column position 1, or `df.loc['1999', 'GDP']` for row name \"1999\" and column name \"GDP\".\n",
    "\n",
    "Let's try each of these using the dataframes you 'fixed' above.\n",
    "\n",
    "### Fill-in-the-blank mode\n",
    "\n",
    "For the first few, I've set up the skeleton for you."
   ]
  },
  {
   "cell_type": "code",
   "execution_count": null,
   "metadata": {},
   "outputs": [],
   "source": [
    "# use your iris dataframe to pull out the Sepal Width column as a Series\n",
    "iris_df_2[]"
   ]
  },
  {
   "cell_type": "code",
   "execution_count": null,
   "metadata": {},
   "outputs": [],
   "source": [
    "# use the hepatitis dataframe to pull out the value at row index 2, column index 1.\n",
    "# the resulting value should be 78\n",
    "hepatitis_df_2.iloc[]"
   ]
  },
  {
   "cell_type": "code",
   "execution_count": null,
   "metadata": {},
   "outputs": [],
   "source": [
    "# use the wine data to pull out the value at row name 2, column name \"citric acid\"\n",
    "# the value should be 0.4\n",
    "wine_df_2.loc[]"
   ]
  },
  {
   "cell_type": "markdown",
   "metadata": {},
   "source": [
    "### Totally blank mode\n",
    "\n",
    "For these, I haven't provided anything besides the expected dataframe variable names."
   ]
  },
  {
   "cell_type": "code",
   "execution_count": null,
   "metadata": {},
   "outputs": [],
   "source": [
    "# use your iris dataframe to pull out the row at index position 8 as a Series\n",
    "iris_df_2"
   ]
  },
  {
   "cell_type": "code",
   "execution_count": null,
   "metadata": {},
   "outputs": [],
   "source": [
    "# use the barley full data to pull out the value at row name 4, column name \"gen\"\n",
    "# the value should be \"Velvet\"\n",
    "# note that your barley full data row *names* should no longer be 0-indexed!\n",
    "barley_full_df_2"
   ]
  },
  {
   "cell_type": "code",
   "execution_count": null,
   "metadata": {},
   "outputs": [],
   "source": [
    "# use the hepatitis data to pull out the value 96 \n",
    "# you should be able to see where it is located in the head of the dataframe\n",
    "hepatitis_df_2"
   ]
  },
  {
   "cell_type": "markdown",
   "metadata": {},
   "source": [
    "-----\n",
    "\n",
    "## Querying dataframes\n",
    "\n",
    "In the lecture we also discussed how to query dataframes using boolean masks to retrieve subsets of the source dataframe that match our query. Let's practice that here.\n",
    "\n",
    "For example, if we wanted to get all of the values in our iris dataset that have a sepal width of 6.9, we would use syntax like this:\n",
    "\n",
    "```\n",
    "iris_df_2[iris_df_2['Sepal Width'] == 6.9]\n",
    "```\n",
    "\n",
    "Note that `iris_df_2` is mentioned twice; once in the inner structure that constructs the boolean mask by performing an equality operation against the entire column of \"Sepal Width\", and again in the outer layer to indicate that the boolean mask that is a result of that expression should be applied to \"show\" only the matching records in that same dataframe.\n",
    "\n",
    "We could split that into two pieces instead:\n",
    "\n",
    "```\n",
    "matching_rows = iris_df_2['Sepal Width'] == 6.9\n",
    "iris_df_2[matching_rows]\n",
    "```\n",
    "\n",
    "Try this format if you are getting your syntax mixed up at any point in the following exercises.\n",
    "\n",
    "You can also string together multiple expressions using the `&` operator for \"and\" / `|` operator for \"or\", as long as you put each individual expression in parenthesis. For example:\n",
    "\n",
    "```\n",
    "iris_df_2[(iris_df_2['Sepal Width'] == 6.9) & (iris_df_2['Species'] == 'Iris-virginica')]\n",
    "```\n",
    "\n",
    "You can leave off the parenthesis if you evaluate the individual expressions first:\n",
    "\n",
    "```\n",
    "first_case = iris_df_2['Sepal Width'] == 6.9\n",
    "second_case = iris_df_2['Species'] == 'Iris-virginica'\n",
    "iris_df_2[first_case & second_case]\n",
    "```\n",
    "\n",
    "\n",
    "### Fill-in-the-?????? mode\n",
    "\n",
    "For the first few, I've added the skeleton and you need to fill in anywhere you see question marks with the appropriate syntax."
   ]
  },
  {
   "cell_type": "code",
   "execution_count": null,
   "metadata": {},
   "outputs": [],
   "source": [
    "# Get the records in the barley full dataset that are from the StPaul site.\n",
    "# there should be 127 records\n",
    "barley_full_df_2[barley_full_df_2[???????] == ??????? ]"
   ]
  },
  {
   "cell_type": "code",
   "execution_count": null,
   "metadata": {},
   "outputs": [],
   "source": [
    "# Get the records in the wine dataset where the alcohol field is over 12.0\n",
    "# there should be 711 records\n",
    "wine_df_2[wine_df_2[??????] > ?????]"
   ]
  },
  {
   "cell_type": "code",
   "execution_count": null,
   "metadata": {},
   "outputs": [],
   "source": [
    "# Get the records in the iris dataset \n",
    "# where the Sepal Width is over 5.0 and the Petal Width is under 1.5\n",
    "# there should be 7 records\n",
    "iris_df_2[(iris_df_2[?????] > ?????) & (iris_df_2[??????] < ?????)]"
   ]
  },
  {
   "cell_type": "markdown",
   "metadata": {},
   "source": [
    "### Totally blank mode\n",
    "For these next few, I haven't filled in anything at all besides the questions. Good luck!"
   ]
  },
  {
   "cell_type": "code",
   "execution_count": null,
   "metadata": {},
   "outputs": [],
   "source": [
    "# Get the records in the barley full dataset where the yield was over 30.0 in Duluth\n",
    "# there should be 63 records"
   ]
  },
  {
   "cell_type": "code",
   "execution_count": null,
   "metadata": {},
   "outputs": [],
   "source": [
    "# Get the records in the wine dataset where the pH is greater or equal to 3.8\n",
    "# (there should be 4 records)"
   ]
  },
  {
   "cell_type": "code",
   "execution_count": null,
   "metadata": {},
   "outputs": [],
   "source": [
    "# Get the records in the hepatitis dataset where the first column (column 0) is not 2\n",
    "# (there should be 32 records)"
   ]
  },
  {
   "cell_type": "markdown",
   "metadata": {},
   "source": [
    "----\n",
    "For more reading on indexing and querying DataFrames, see: https://pandas.pydata.org/docs/getting_started/intro_tutorials/03_subset_data.html"
   ]
  }
 ],
 "metadata": {
  "kernelspec": {
   "display_name": "Python 3",
   "language": "python",
   "name": "python3"
  },
  "language_info": {
   "codemirror_mode": {
    "name": "ipython",
    "version": 3
   },
   "file_extension": ".py",
   "mimetype": "text/x-python",
   "name": "python",
   "nbconvert_exporter": "python",
   "pygments_lexer": "ipython3",
   "version": "3.8.3"
  }
 },
 "nbformat": 4,
 "nbformat_minor": 4
}
